{
 "cells": [
  {
   "attachments": {},
   "cell_type": "markdown",
   "metadata": {},
   "source": [
    "# Azure OpenAI Service API with OpenAI Python SDK\n",
    "\n",
    "This notebook shows how to use the Azure OpenAI (AOAI) Service API with the [OpenAI Python SDK](https://github.com/openai/openai-python).\n",
    "\n",
    "### Prerequisites\n",
    "\n",
    "1. Setup for Azure Active Directory (AAD) authentication.\n",
    "    * See [Setup to use AAD and test with CLI](setup_aad.md).\n",
    "2. A Python environment setup with all the requirements.  \n",
    "    * See the [setup_python_env.md](setup_python_env.md) page for instructions on setting up your environment.\n",
    "\n",
    "### Configuring OpenAI SDK\n",
    "The OpenAI SDK can be configured via _config_ file.  \n",
    "\n",
    " | SDK Variable | Description |\n",
    " | -- | -- |\n",
    " | `api_type` | API Type.  Use `azure_ad` for AAD authentication.  |\n",
    " | `api_version` | API Version.  You can use `2022-12-01`. |\n",
    " | `api_base` | Base URL for the API.  This is the endpoint URL for your team. |\n",
    "\n"
   ]
  },
  {
   "cell_type": "code",
   "execution_count": 1,
   "metadata": {},
   "outputs": [
    {
     "name": "stdout",
     "output_type": "stream",
     "text": [
      "Requirement already satisfied: azure-identity in d:\\trainings\\ai\\labs\\openai\\basic_samples\\.venv\\lib\\site-packages (1.14.0)\n",
      "Requirement already satisfied: azure-core<2.0.0,>=1.11.0 in d:\\trainings\\ai\\labs\\openai\\basic_samples\\.venv\\lib\\site-packages (from azure-identity) (1.29.3)\n",
      "Requirement already satisfied: cryptography>=2.5 in d:\\trainings\\ai\\labs\\openai\\basic_samples\\.venv\\lib\\site-packages (from azure-identity) (41.0.3)\n",
      "Requirement already satisfied: msal<2.0.0,>=1.20.0 in d:\\trainings\\ai\\labs\\openai\\basic_samples\\.venv\\lib\\site-packages (from azure-identity) (1.23.0)\n",
      "Requirement already satisfied: msal-extensions<2.0.0,>=0.3.0 in d:\\trainings\\ai\\labs\\openai\\basic_samples\\.venv\\lib\\site-packages (from azure-identity) (1.0.0)\n",
      "Requirement already satisfied: requests>=2.18.4 in d:\\trainings\\ai\\labs\\openai\\basic_samples\\.venv\\lib\\site-packages (from azure-core<2.0.0,>=1.11.0->azure-identity) (2.31.0)\n",
      "Requirement already satisfied: six>=1.11.0 in d:\\trainings\\ai\\labs\\openai\\basic_samples\\.venv\\lib\\site-packages (from azure-core<2.0.0,>=1.11.0->azure-identity) (1.16.0)\n",
      "Requirement already satisfied: typing-extensions>=4.6.0 in d:\\trainings\\ai\\labs\\openai\\basic_samples\\.venv\\lib\\site-packages (from azure-core<2.0.0,>=1.11.0->azure-identity) (4.7.1)\n",
      "Requirement already satisfied: cffi>=1.12 in d:\\trainings\\ai\\labs\\openai\\basic_samples\\.venv\\lib\\site-packages (from cryptography>=2.5->azure-identity) (1.15.1)\n",
      "Requirement already satisfied: PyJWT[crypto]<3,>=1.0.0 in d:\\trainings\\ai\\labs\\openai\\basic_samples\\.venv\\lib\\site-packages (from msal<2.0.0,>=1.20.0->azure-identity) (2.8.0)\n",
      "Requirement already satisfied: portalocker<3,>=1.6 in d:\\trainings\\ai\\labs\\openai\\basic_samples\\.venv\\lib\\site-packages (from msal-extensions<2.0.0,>=0.3.0->azure-identity) (2.7.0)\n",
      "Requirement already satisfied: pycparser in d:\\trainings\\ai\\labs\\openai\\basic_samples\\.venv\\lib\\site-packages (from cffi>=1.12->cryptography>=2.5->azure-identity) (2.21)\n",
      "Requirement already satisfied: pywin32>=226 in d:\\trainings\\ai\\labs\\openai\\basic_samples\\.venv\\lib\\site-packages (from portalocker<3,>=1.6->msal-extensions<2.0.0,>=0.3.0->azure-identity) (306)\n",
      "Requirement already satisfied: charset-normalizer<4,>=2 in d:\\trainings\\ai\\labs\\openai\\basic_samples\\.venv\\lib\\site-packages (from requests>=2.18.4->azure-core<2.0.0,>=1.11.0->azure-identity) (3.2.0)\n",
      "Requirement already satisfied: idna<4,>=2.5 in d:\\trainings\\ai\\labs\\openai\\basic_samples\\.venv\\lib\\site-packages (from requests>=2.18.4->azure-core<2.0.0,>=1.11.0->azure-identity) (3.4)\n",
      "Requirement already satisfied: urllib3<3,>=1.21.1 in d:\\trainings\\ai\\labs\\openai\\basic_samples\\.venv\\lib\\site-packages (from requests>=2.18.4->azure-core<2.0.0,>=1.11.0->azure-identity) (2.0.4)\n",
      "Requirement already satisfied: certifi>=2017.4.17 in d:\\trainings\\ai\\labs\\openai\\basic_samples\\.venv\\lib\\site-packages (from requests>=2.18.4->azure-core<2.0.0,>=1.11.0->azure-identity) (2023.7.22)\n",
      "Note: you may need to restart the kernel to use updated packages.\n",
      "Note: you may need to restart the kernel to use updated packages.\n"
     ]
    },
    {
     "name": "stderr",
     "output_type": "stream",
     "text": [
      "ERROR: Invalid requirement: 'openai,'\n"
     ]
    }
   ],
   "source": [
    "%pip install azure-identity\n",
    "%pip install openai, jupyter"
   ]
  },
  {
   "cell_type": "code",
   "execution_count": 2,
   "metadata": {},
   "outputs": [],
   "source": [
    "import json\n",
    "import openai\n",
    "import os"
   ]
  },
  {
   "cell_type": "markdown",
   "metadata": {},
   "source": [
    "### Setup Parameters\n",
    "\n",
    "\n",
    "Here we will load the configurations from _config.json_ file to setup deployment_name, openai.api_base and openai.api_version."
   ]
  },
  {
   "cell_type": "code",
   "execution_count": 13,
   "metadata": {},
   "outputs": [],
   "source": [
    "# Load config values\n",
    "with open(r'config.json') as config_file:\n",
    "    config_details = json.load(config_file)\n",
    "\n",
    "# Setting up the deployment name\n",
    "deployment_name = config_details['COMPLETIONS_MODEL']\n",
    "\n",
    "# For Active Directory authentication\n",
    "openai.api_type = \"azure_ad\"\n",
    "\n",
    "# The base URL for your Azure OpenAI resource. e.g. \"https://<your resource name>.openai.azure.com\"\n",
    "openai.api_base = config_details['OPENAI_API_BASE']\n",
    "\n",
    "# Currently OPENAI API have the following versions available: 2022-12-01\n",
    "openai.api_version = config_details['OPENAI_API_VERSION']"
   ]
  },
  {
   "cell_type": "markdown",
   "metadata": {},
   "source": [
    "## Set up AAD authentication\n",
    "\n",
    "`DefaultAzureCredential` can read your credentials from the environment after doing `az login`. \n",
    "\n",
    "In VS Code, you can use the Azure Account extension to log in with your Azure account.  If you are running this notebook in VS Code, be sure to restart VS Code after you do `az login`.\n",
    "\n",
    "This article gives details on what identity `DefaultAzureCredential` uses: https://docs.microsoft.com/en-us/python/api/azure-identity/azure.identity.defaultazurecredential?view=azure-python\n",
    "\n",
    "If you get an error similar to the following, you can try using `AzureCliCredential` instead of `DefaultAzureCredential`:\n",
    "\n",
    "```\n",
    "DefaultAzureCredential failed to retrieve a token from the included credentials. Attempted credentials:     EnvironmentCredential: EnvironmentCredential authentication unavailable. Environment variables are not fully configured. Visit https://aka.ms/azsdk/python/identity/environmentcredential/troubleshoot to troubleshoot.this issue.     ManagedIdentityCredential: ManagedIdentityCredential authentication unavailable, no response from the IMDS endpoint.     SharedTokenCacheCredential: Azure Active Directory error '(invalid_scope) AADSTS70011: The provided request must include a 'scope' input parameter. The provided value for the input parameter 'scope' is not valid. The scope https://cognitiveservices.azure.com is not valid. The scope format is invalid. Scope must be in a valid URI form <https://example/scope> or a valid Guid <guid/scope>. \n",
    "```\n",
    "\n"
   ]
  },
  {
   "cell_type": "code",
   "execution_count": 3,
   "metadata": {},
   "outputs": [],
   "source": [
    "from azure.identity import DefaultAzureCredential, AzureCliCredential #DefaultAzureCredential should work but you may need AzureCliCredential to make the authentication work\n",
    "default_credential = AzureCliCredential()\n",
    "#default_credential = DefaultAzureCredential()"
   ]
  },
  {
   "cell_type": "markdown",
   "metadata": {},
   "source": [
    "## Define method to get a prompt completion using AAD authentication\n",
    "\n",
    "The `refresh_token` function below is used to get a new token when the current token expires.  The `refresh_token` method is called by the `get_completion` to get the token if it is not already set or if the token has expired."
   ]
  },
  {
   "cell_type": "code",
   "execution_count": 7,
   "metadata": {},
   "outputs": [],
   "source": [
    "import datetime\n",
    "\n",
    "token = None\n",
    "\n",
    "def refresh_token():\n",
    "    \"\"\"Refresh AAD token\"\"\"\n",
    "    global token\n",
    "    # Check if Azure token is still valid\n",
    "    if not token or datetime.datetime.fromtimestamp(token.expires_on) < datetime.datetime.now():\n",
    "        token = default_credential.get_token(\"https://cognitiveservices.azure.com\")\n",
    "\n",
    "def get_completion(**kwargs):\n",
    "    # Refresh token\n",
    "    refresh_token()\n",
    "    # Set the API key to be your Bearer token (yes this could be optimizaed to not do this every time :D) \n",
    "    openai.api_key = token.token\n",
    "    \n",
    "    return openai.Completion.create(\n",
    "        # Contact your team admin to get the name of your engine or model deployment.  \n",
    "        # This is the name that they used when they created the model deployment.\n",
    "        engine=deployment_name,\n",
    "        **kwargs\n",
    "    )\n"
   ]
  },
  {
   "cell_type": "code",
   "execution_count": 11,
   "metadata": {},
   "outputs": [
    {
     "data": {
      "text/plain": [
       "'eyJ0eXAiOiJKV1QiLCJhbGciOiJSUzI1NiIsIng1dCI6Ii1LSTNROW5OUjdiUm9meG1lWm9YcWJIWkdldyIsImtpZCI6Ii1LSTNROW5OUjdiUm9meG1lWm9YcWJIWkdldyJ9.eyJhdWQiOiJodHRwczovL2NvZ25pdGl2ZXNlcnZpY2VzLmF6dXJlLmNvbSIsImlzcyI6Imh0dHBzOi8vc3RzLndpbmRvd3MubmV0L2I0NjQ1MjA5LTMxMmYtNGMxOS04ZmViLTVlNjdiOTE0N2NjMi8iLCJpYXQiOjE2OTQxMTAzMTgsIm5iZiI6MTY5NDExMDMxOCwiZXhwIjoxNjk0MTE1MTIzLCJhY3IiOiIxIiwiYWlvIjoiQVlRQWUvOFVBQUFBMjREM1hRR1BtT2ZoUXUwaU1USFc2bFE5WDJjVEJJOHJVd29jMFVpZTRoTGx3WGFROWswNXZRZmxzNGY2cHgwYVVkQ2JLM0ZxaFp1QXhkbk9sV3VsbVIzbHJsQnJiRGkwZVV2ZzZ4Ymwwa3drRURQbW1QSmFjMDMzZXVwSlBHdUVMQW9sMERLMXRUVjQ2UUMxTlhYYUdsZ1NjMTVZSE44Z0U0K0NDZ25XZzhvPSIsImFsdHNlY2lkIjoiMTpsaXZlLmNvbTowMDAxNkYxMTI1RkQ5OEE1IiwiYW1yIjpbInB3ZCIsIm1mYSJdLCJhcHBpZCI6IjA0YjA3Nzk1LThkZGItNDYxYS1iYmVlLTAyZjllMWJmN2I0NiIsImFwcGlkYWNyIjoiMCIsImVtYWlsIjoidXNhbWF3YWhhYmtoYW5AZ21haWwuY29tIiwiZmFtaWx5X25hbWUiOiJraGFuIiwiZ2l2ZW5fbmFtZSI6InVzYW1hIiwiZ3JvdXBzIjpbIjM0YzYzMzJiLThmOTQtNDE3OC04NjkxLTA0NTE5N2Y4MzIxMyIsIjVlNzJjNDNkLTBiOTctNDgwZC1hYWI3LTdiNzZkODI5ODY0NyIsIjEyODdmYTZjLWQ3ZWUtNDAxZS05ZDU4LWM0YmJlNTVjMmJjMCJdLCJpZHAiOiJsaXZlLmNvbSIsImlwYWRkciI6IjE2Ny4yMjAuMTUyLjEyOCIsIm5hbWUiOiJ1c2FtYSBraGFuIiwib2lkIjoiZWZlZmZhNGUtYTYxYS00Y2RjLTk4ZjQtNzI5MzQwNTI1NjVhIiwicHVpZCI6IjEwMDMwMDAwOEQ3NUEyMUUiLCJyaCI6IjAuQVhvQUNWSmt0Qzh4R1V5UDYxNW51UlI4d3BBaU1YM0lLRHhIb08yT1UzU2JiVzE2QU5vLiIsInNjcCI6InVzZXJfaW1wZXJzb25hdGlvbiIsInN1YiI6IkhoMXFsbjRxZVJhcDRCSlA3WTFvckFmOFZpR241bXB2ajlWT25BckZkMHMiLCJ0aWQiOiJiNDY0NTIwOS0zMTJmLTRjMTktOGZlYi01ZTY3YjkxNDdjYzIiLCJ1bmlxdWVfbmFtZSI6ImxpdmUuY29tI3VzYW1hd2FoYWJraGFuQGdtYWlsLmNvbSIsInV0aSI6Ikp3WVRqMzhXTmt1Vl9zZGkwNmtSQVEiLCJ2ZXIiOiIxLjAiLCJ3aWRzIjpbIjRhNWQ4ZjY1LTQxZGEtNGRlNC04OTY4LWUwMzViNjUzMzljZiIsIjYyZTkwMzk0LTY5ZjUtNDIzNy05MTkwLTAxMjE3NzE0NWUxMCIsImI3OWZiZjRkLTNlZjktNDY4OS04MTQzLTc2YjE5NGU4NTUwOSJdfQ.EFEBY8SwiLcmqsS0MmbkVLXsNKl5WP52n4qILIUJzXCi8ZfNdjh4V4_fHKEXEDJit9tinEudtk3siS8ma_pZ9vs2ad_thyVSLZGskkiioTuv5wwpSJUwYhmnNAFP0x5ois9NxPvRLwDuy3X751D_-UanM-vDmiifZQRAgEFlq1vSKgXlGJbglQ57vlKqWxaLLC87HrCbgsJ0XHpuJPdsOrs_DYaNcu4loMKnR4Tnp7tqjk2mnL43cC-rtYnLVosDPWJTWpEXXR2yn9UcLgGIXwWxx0uDO9oMRTxfCokA5__1K2nXeQssAc4myHnzfj9CCXc0uWzk317sHPGFrTkwJw'"
      ]
     },
     "execution_count": 11,
     "metadata": {},
     "output_type": "execute_result"
    }
   ],
   "source": [
    "openai.api_key "
   ]
  },
  {
   "cell_type": "markdown",
   "metadata": {},
   "source": [
    "## Test the API\n",
    "\n",
    "The payload parameters in the `get_completion` call are for illustration only and can be changed for your use case as described in the [reference](https://learn.microsoft.com/en-us/azure/cognitive-services/openai/reference)."
   ]
  },
  {
   "cell_type": "code",
   "execution_count": 14,
   "metadata": {},
   "outputs": [
    {
     "name": "stdout",
     "output_type": "stream",
     "text": [
      "{\n",
      "  \"id\": \"cmpl-7wDsnZ88kddPRUDFDgM6T5VKiLazE\",\n",
      "  \"object\": \"text_completion\",\n",
      "  \"created\": 1694110745,\n",
      "  \"model\": \"gpt-35-turbo\",\n",
      "  \"choices\": [\n",
      "    {\n",
      "      \"text\": \", in a far-off land, there lived a king who had a beautiful daughter named Sophia. She was the apple of her father\\u2019s eye and he loved her more than anything in the world. One day, while the king was out hunting, a dragon came and took the princess away. The king was heartbroken and searched everywhere for his daughter, but he could not find her.\\n\\nThe dragon took Sophia to his lair, high up in the mountains. He kept her there, locked up in a tower, and guarded her with his life. Sophia was very sad and missed her father terribly. She cried every day and prayed that someone would come and rescue her.\\n\\nOne day, a brave knight named George came riding by. He saw the dragon\\u2019s lair and heard the princess crying. He knew he had to do something to help her. He rode up to the tower and called out to Sophia. She was overjoyed to see him and begged him to rescue her.\\n\\nGeorge knew he had to defeat the dragon to save Sophia. He put on his armor and rode out to face the beast. The dragon was fierce and breathed fire, but George was brave and fought with all his might. After a long and difficult battle, George finally defeated the dragon and rescued Sophia.\\n\\nThe princess was overjoyed to be reunited with her father and George was hailed as a hero throughout the land. The king was so grateful to George that he offered him anything he wanted. George asked for nothing but\",\n",
      "      \"index\": 0,\n",
      "      \"finish_reason\": \"length\",\n",
      "      \"logprobs\": null\n",
      "    }\n",
      "  ],\n",
      "  \"usage\": {\n",
      "    \"completion_tokens\": 300,\n",
      "    \"prompt_tokens\": 4,\n",
      "    \"total_tokens\": 304\n",
      "  }\n",
      "}\n"
     ]
    }
   ],
   "source": [
    "# Example prompt \n",
    "prompt = \"Once upon a time\"\n",
    "\n",
    "response = get_completion(\n",
    "    prompt=prompt,\n",
    "    temperature=0.7,\n",
    "    max_tokens=300,\n",
    "    top_p=0.5,\n",
    "    stop=None\n",
    ")\n",
    "\n",
    "# printing the response\n",
    "print(response)"
   ]
  },
  {
   "cell_type": "code",
   "execution_count": 15,
   "metadata": {},
   "outputs": [],
   "source": [
    "import os\n",
    "import openai\n",
    "from azure.identity import AzureCliCredential, ChainedTokenCredential, ManagedIdentityCredential, EnvironmentCredential\n",
    "from azure.identity import DefaultAzureCredential, AzureCliCredential #DefaultAzureCredential should work but you may need AzureCliCredential to make the authentication work\n",
    "\n",
    "default_credential = AzureCliCredential()\n",
    "#default_credential = DefaultAzureCredential()\n",
    "# Define strategy which potential authentication methods should be tried to gain an access token\n",
    "access_token = default_credential.get_token(\"https://cognitiveservices.azure.com\")\n"
   ]
  },
  {
   "cell_type": "code",
   "execution_count": 16,
   "metadata": {},
   "outputs": [
    {
     "data": {
      "text/plain": [
       "'eyJ0eXAiOiJKV1QiLCJhbGciOiJSUzI1NiIsIng1dCI6Ii1LSTNROW5OUjdiUm9meG1lWm9YcWJIWkdldyIsImtpZCI6Ii1LSTNROW5OUjdiUm9meG1lWm9YcWJIWkdldyJ9.eyJhdWQiOiJodHRwczovL2NvZ25pdGl2ZXNlcnZpY2VzLmF6dXJlLmNvbSIsImlzcyI6Imh0dHBzOi8vc3RzLndpbmRvd3MubmV0L2I0NjQ1MjA5LTMxMmYtNGMxOS04ZmViLTVlNjdiOTE0N2NjMi8iLCJpYXQiOjE2OTQxMTAzMTgsIm5iZiI6MTY5NDExMDMxOCwiZXhwIjoxNjk0MTE1MTIzLCJhY3IiOiIxIiwiYWlvIjoiQVlRQWUvOFVBQUFBMjREM1hRR1BtT2ZoUXUwaU1USFc2bFE5WDJjVEJJOHJVd29jMFVpZTRoTGx3WGFROWswNXZRZmxzNGY2cHgwYVVkQ2JLM0ZxaFp1QXhkbk9sV3VsbVIzbHJsQnJiRGkwZVV2ZzZ4Ymwwa3drRURQbW1QSmFjMDMzZXVwSlBHdUVMQW9sMERLMXRUVjQ2UUMxTlhYYUdsZ1NjMTVZSE44Z0U0K0NDZ25XZzhvPSIsImFsdHNlY2lkIjoiMTpsaXZlLmNvbTowMDAxNkYxMTI1RkQ5OEE1IiwiYW1yIjpbInB3ZCIsIm1mYSJdLCJhcHBpZCI6IjA0YjA3Nzk1LThkZGItNDYxYS1iYmVlLTAyZjllMWJmN2I0NiIsImFwcGlkYWNyIjoiMCIsImVtYWlsIjoidXNhbWF3YWhhYmtoYW5AZ21haWwuY29tIiwiZmFtaWx5X25hbWUiOiJraGFuIiwiZ2l2ZW5fbmFtZSI6InVzYW1hIiwiZ3JvdXBzIjpbIjM0YzYzMzJiLThmOTQtNDE3OC04NjkxLTA0NTE5N2Y4MzIxMyIsIjVlNzJjNDNkLTBiOTctNDgwZC1hYWI3LTdiNzZkODI5ODY0NyIsIjEyODdmYTZjLWQ3ZWUtNDAxZS05ZDU4LWM0YmJlNTVjMmJjMCJdLCJpZHAiOiJsaXZlLmNvbSIsImlwYWRkciI6IjE2Ny4yMjAuMTUyLjEyOCIsIm5hbWUiOiJ1c2FtYSBraGFuIiwib2lkIjoiZWZlZmZhNGUtYTYxYS00Y2RjLTk4ZjQtNzI5MzQwNTI1NjVhIiwicHVpZCI6IjEwMDMwMDAwOEQ3NUEyMUUiLCJyaCI6IjAuQVhvQUNWSmt0Qzh4R1V5UDYxNW51UlI4d3BBaU1YM0lLRHhIb08yT1UzU2JiVzE2QU5vLiIsInNjcCI6InVzZXJfaW1wZXJzb25hdGlvbiIsInN1YiI6IkhoMXFsbjRxZVJhcDRCSlA3WTFvckFmOFZpR241bXB2ajlWT25BckZkMHMiLCJ0aWQiOiJiNDY0NTIwOS0zMTJmLTRjMTktOGZlYi01ZTY3YjkxNDdjYzIiLCJ1bmlxdWVfbmFtZSI6ImxpdmUuY29tI3VzYW1hd2FoYWJraGFuQGdtYWlsLmNvbSIsInV0aSI6Ikp3WVRqMzhXTmt1Vl9zZGkwNmtSQVEiLCJ2ZXIiOiIxLjAiLCJ3aWRzIjpbIjRhNWQ4ZjY1LTQxZGEtNGRlNC04OTY4LWUwMzViNjUzMzljZiIsIjYyZTkwMzk0LTY5ZjUtNDIzNy05MTkwLTAxMjE3NzE0NWUxMCIsImI3OWZiZjRkLTNlZjktNDY4OS04MTQzLTc2YjE5NGU4NTUwOSJdfQ.EFEBY8SwiLcmqsS0MmbkVLXsNKl5WP52n4qILIUJzXCi8ZfNdjh4V4_fHKEXEDJit9tinEudtk3siS8ma_pZ9vs2ad_thyVSLZGskkiioTuv5wwpSJUwYhmnNAFP0x5ois9NxPvRLwDuy3X751D_-UanM-vDmiifZQRAgEFlq1vSKgXlGJbglQ57vlKqWxaLLC87HrCbgsJ0XHpuJPdsOrs_DYaNcu4loMKnR4Tnp7tqjk2mnL43cC-rtYnLVosDPWJTWpEXXR2yn9UcLgGIXwWxx0uDO9oMRTxfCokA5__1K2nXeQssAc4myHnzfj9CCXc0uWzk317sHPGFrTkwJw'"
      ]
     },
     "execution_count": 16,
     "metadata": {},
     "output_type": "execute_result"
    }
   ],
   "source": [
    "access_token.token"
   ]
  }
 ],
 "metadata": {
  "kernelspec": {
   "display_name": "Python 3 (ipykernel)",
   "language": "python",
   "name": "python3"
  },
  "language_info": {
   "codemirror_mode": {
    "name": "ipython",
    "version": 3
   },
   "file_extension": ".py",
   "mimetype": "text/x-python",
   "name": "python",
   "nbconvert_exporter": "python",
   "pygments_lexer": "ipython3",
   "version": "3.11.5"
  },
  "vscode": {
   "interpreter": {
    "hash": "5453039e1c3beadcd7c6bc838a2f5d2d849c1bfa9a5a5e848cf27873534572b2"
   }
  }
 },
 "nbformat": 4,
 "nbformat_minor": 2
}
