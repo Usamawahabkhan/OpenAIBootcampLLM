{
  "cells": [
    {
      "cell_type": "code",
      "execution_count": 13,
      "metadata": {
        "gather": {
          "logged": 1683783495145
        },
        "jupyter": {
          "outputs_hidden": false,
          "source_hidden": false
        },
        "nteract": {
          "transient": {
            "deleting": false
          }
        }
      },
      "outputs": [
        {
          "name": "stdout",
          "output_type": "stream",
          "text": [
            "Note: you may need to restart the kernel to use updated packages.\n",
            "Note: you may need to restart the kernel to use updated packages.\n",
            "Note: you may need to restart the kernel to use updated packages.\n",
            "Note: you may need to restart the kernel to use updated packages.\n"
          ]
        },
        {
          "name": "stderr",
          "output_type": "stream",
          "text": [
            "  error: subprocess-exited-with-error\n",
            "  \n",
            "  × Getting requirements to build wheel did not run successfully.\n",
            "  │ exit code: 1\n",
            "  ╰─> [20 lines of output]\n",
            "      Traceback (most recent call last):\n",
            "        File \"d:\\Trainings\\AI\\labs\\openai\\Basic_Samples\\.venv\\Lib\\site-packages\\pip\\_vendor\\pyproject_hooks\\_in_process\\_in_process.py\", line 353, in <module>\n",
            "          main()\n",
            "        File \"d:\\Trainings\\AI\\labs\\openai\\Basic_Samples\\.venv\\Lib\\site-packages\\pip\\_vendor\\pyproject_hooks\\_in_process\\_in_process.py\", line 335, in main\n",
            "          json_out['return_val'] = hook(**hook_input['kwargs'])\n",
            "                                   ^^^^^^^^^^^^^^^^^^^^^^^^^^^^\n",
            "        File \"d:\\Trainings\\AI\\labs\\openai\\Basic_Samples\\.venv\\Lib\\site-packages\\pip\\_vendor\\pyproject_hooks\\_in_process\\_in_process.py\", line 118, in get_requires_for_build_wheel\n",
            "          return hook(config_settings)\n",
            "                 ^^^^^^^^^^^^^^^^^^^^^\n",
            "        File \"C:\\Users\\AL chat\\AppData\\Local\\Temp\\pip-build-env-5cb79sif\\overlay\\Lib\\site-packages\\setuptools\\build_meta.py\", line 355, in get_requires_for_build_wheel\n",
            "          return self._get_build_requires(config_settings, requirements=['wheel'])\n",
            "                 ^^^^^^^^^^^^^^^^^^^^^^^^^^^^^^^^^^^^^^^^^^^^^^^^^^^^^^^^^^^^^^^^^\n",
            "        File \"C:\\Users\\AL chat\\AppData\\Local\\Temp\\pip-build-env-5cb79sif\\overlay\\Lib\\site-packages\\setuptools\\build_meta.py\", line 325, in _get_build_requires\n",
            "          self.run_setup()\n",
            "        File \"C:\\Users\\AL chat\\AppData\\Local\\Temp\\pip-build-env-5cb79sif\\overlay\\Lib\\site-packages\\setuptools\\build_meta.py\", line 507, in run_setup\n",
            "          super(_BuildMetaLegacyBackend, self).run_setup(setup_script=setup_script)\n",
            "        File \"C:\\Users\\AL chat\\AppData\\Local\\Temp\\pip-build-env-5cb79sif\\overlay\\Lib\\site-packages\\setuptools\\build_meta.py\", line 341, in run_setup\n",
            "          exec(code, locals())\n",
            "        File \"<string>\", line 10, in <module>\n",
            "      ModuleNotFoundError: No module named 'torch'\n",
            "      [end of output]\n",
            "  \n",
            "  note: This error originates from a subprocess, and is likely not a problem with pip.\n",
            "error: subprocess-exited-with-error\n",
            "\n",
            "× Getting requirements to build wheel did not run successfully.\n",
            "│ exit code: 1\n",
            "╰─> See above for output.\n",
            "\n",
            "note: This error originates from a subprocess, and is likely not a problem with pip.\n",
            "UsageError: Line magic function `%apt-get` not found.\n"
          ]
        }
      ],
      "source": [
        "%pip install --upgrade langchain openai -q\n",
        "%pip install unstructured -q\n",
        "%pip install unstructured[local-inference] -q\n",
        "%pip install detectron2@git+https://github.com/facebookresearch/detectron2.git@v0.6#egg=detectron2 -q\n",
        "%apt-get install poppler-utils\n"
      ]
    },
    {
      "cell_type": "code",
      "execution_count": 1,
      "metadata": {
        "gather": {
          "logged": 1683783550480
        }
      },
      "outputs": [
        {
          "name": "stderr",
          "output_type": "stream",
          "text": [
            "d:\\Trainings\\AI\\labs\\openai\\Basic_Samples\\.venv\\Lib\\site-packages\\pinecone\\index.py:4: TqdmExperimentalWarning: Using `tqdm.autonotebook.tqdm` in notebook mode. Use `tqdm.tqdm` instead to force console mode (e.g. in jupyter console)\n",
            "  from tqdm.autonotebook import tqdm\n"
          ]
        }
      ],
      "source": [
        "\n",
        "from tqdm import tqdm\n",
        "import docx\n",
        "import json\n",
        "import os\n",
        "import openai\n",
        "import pinecone\n",
        "from langchain.document_loaders import DirectoryLoader\n",
        "from langchain.text_splitter import RecursiveCharacterTextSplitter\n",
        "from langchain.embeddings.openai import OpenAIEmbeddings\n",
        "from langchain.vectorstores import Pinecone\n",
        "from langchain.llms import OpenAI\n",
        "from langchain.chains.question_answering import load_qa_chain\n"
      ]
    },
    {
      "cell_type": "code",
      "execution_count": 2,
      "metadata": {},
      "outputs": [],
      "source": [
        "# Load config values\n",
        "with open(r'../config.json') as config_file:\n",
        "    config_details = json.load(config_file)\n",
        "    \n",
        "# Setting up the deployment name\n",
        "deployment_name = config_details['EMBEDDINGS_MODEL']\n",
        "\n",
        "# This is set to `azure`\n",
        "openai.api_type = \"azure\"\n",
        "\n",
        "# The API key for your Azure OpenAI resource.\n",
        "openai.api_key = os.getenv(\"OPENAI_API_KEY\")\n",
        "\n",
        "# The base URL for your Azure OpenAI resource. e.g. \"https://<your resource name>.openai.azure.com\"\n",
        "openai.api_base = config_details['OPENAI_API_BASE']\n",
        "\n",
        "# Currently OPENAI API have the following versions available: 2022-12-01\n",
        "openai.api_version = config_details['OPENAI_API_VERSION']\n",
        " \n",
        "PINECONE_API_KEY = '36dba5ad-f423-4f2f-99e9-a05763d4d7be'\n",
        "PINECONE_API_ENV = 'gcp-starter'"
      ]
    },
    {
      "cell_type": "code",
      "execution_count": 3,
      "metadata": {},
      "outputs": [],
      "source": [
        "openai.api_key = os.getenv(\"OPENAI_API_KEY\")"
      ]
    },
    {
      "cell_type": "markdown",
      "metadata": {
        "nteract": {
          "transient": {
            "deleting": false
          }
        }
      },
      "source": [
        "## Load your data"
      ]
    },
    {
      "cell_type": "code",
      "execution_count": 4,
      "metadata": {
        "gather": {
          "logged": 1683783557929
        },
        "jupyter": {
          "outputs_hidden": false,
          "source_hidden": false
        },
        "nteract": {
          "transient": {
            "deleting": false
          }
        }
      },
      "outputs": [
        {
          "data": {
            "text/plain": [
              "1"
            ]
          },
          "execution_count": 4,
          "metadata": {},
          "output_type": "execute_result"
        }
      ],
      "source": [
        "directory = './data/'\n",
        "\n",
        "def load_docs(directory):\n",
        "  loader = DirectoryLoader(directory)\n",
        "  documents = loader.load()\n",
        "  return documents\n",
        "\n",
        "documents = load_docs(directory)\n",
        "len(documents)\n"
      ]
    },
    {
      "cell_type": "code",
      "execution_count": 5,
      "metadata": {},
      "outputs": [
        {
          "name": "stdout",
          "output_type": "stream",
          "text": [
            "15\n"
          ]
        }
      ],
      "source": [
        "def split_docs(documents, chunk_size=3000, chunk_overlap=20):\n",
        "  text_splitter = RecursiveCharacterTextSplitter(chunk_size=chunk_size, chunk_overlap=chunk_overlap)\n",
        "  docs = text_splitter.split_documents(documents)\n",
        "  return docs\n",
        "\n",
        "docs = split_docs(documents)\n",
        "print(len(docs))"
      ]
    },
    {
      "cell_type": "code",
      "execution_count": 6,
      "metadata": {
        "gather": {
          "logged": 1683783560607
        },
        "jupyter": {
          "outputs_hidden": false,
          "source_hidden": false
        },
        "nteract": {
          "transient": {
            "deleting": false
          }
        }
      },
      "outputs": [
        {
          "name": "stderr",
          "output_type": "stream",
          "text": [
            "d:\\Trainings\\AI\\labs\\openai\\Basic_Samples\\.venv\\Lib\\site-packages\\langchain\\embeddings\\openai.py:217: UserWarning: WARNING! engine is not default parameter.\n",
            "                    engine was transferred to model_kwargs.\n",
            "                    Please confirm that engine is what you intended.\n",
            "  warnings.warn(\n",
            "d:\\Trainings\\AI\\labs\\openai\\Basic_Samples\\.venv\\Lib\\site-packages\\langchain\\embeddings\\openai.py:217: UserWarning: WARNING! model_name is not default parameter.\n",
            "                    model_name was transferred to model_kwargs.\n",
            "                    Please confirm that model_name is what you intended.\n",
            "  warnings.warn(\n"
          ]
        },
        {
          "data": {
            "text/plain": [
              "1536"
            ]
          },
          "execution_count": 6,
          "metadata": {},
          "output_type": "execute_result"
        }
      ],
      "source": [
        "embeddings = OpenAIEmbeddings(engine=deployment_name,model_name =\"Text-embedding-ada-002\")\n",
        "\n",
        "query_result = embeddings.embed_query(\"Hello world\")\n",
        "len(query_result)\n"
      ]
    },
    {
      "cell_type": "code",
      "execution_count": 7,
      "metadata": {},
      "outputs": [
        {
          "name": "stdout",
          "output_type": "stream",
          "text": [
            "Note: you may need to restart the kernel to use updated packages.\n"
          ]
        }
      ],
      "source": [
        "%pip install pinecone-client -q\n"
      ]
    },
    {
      "cell_type": "code",
      "execution_count": 8,
      "metadata": {
        "gather": {
          "logged": 1683120746009
        },
        "jupyter": {
          "outputs_hidden": false,
          "source_hidden": false
        },
        "nteract": {
          "transient": {
            "deleting": false
          }
        }
      },
      "outputs": [],
      "source": [
        "pinecone.init(\n",
        "    api_key=\"36dba5ad-f423-4f2f-99e9-a05763d4d7be\",\n",
        "    environment=\"gcp-starter\"\n",
        ")\n",
        "\n",
        "index_name = \"demoineegpt\"\n",
        "\n",
        "index = Pinecone.from_documents(docs, embeddings, index_name=index_name)\n"
      ]
    },
    {
      "cell_type": "code",
      "execution_count": 9,
      "metadata": {},
      "outputs": [],
      "source": [
        "def get_similiar_docs(query, k=2, score=False):\n",
        "  if score:\n",
        "    similar_docs = index.similarity_search_with_score(query, k=k)\n",
        "  else:\n",
        "    similar_docs = index.similarity_search(query, k=k)\n",
        "  return similar_docs\n"
      ]
    },
    {
      "cell_type": "code",
      "execution_count": 22,
      "metadata": {},
      "outputs": [],
      "source": [
        "# model_name = \"text-davinci-003\"\n",
        "model_name = \"gpt-3.5-turbo\"\n",
        "#model_name = \"gpt-4\"\n",
        "llm = OpenAI(engine = \"demolabsmsneards\")\n",
        "\n",
        "chain = load_qa_chain(llm, chain_type=\"stuff\")\n",
        "\n",
        "def get_answer(query):\n",
        "  similar_docs = get_similiar_docs(query)\n",
        "\n",
        "  #answer = chain.run(input_documents=similar_docs, question=query)\n",
        "\n",
        "  print(similar_docs)\n",
        "  answer = chain.run(input_documents=similar_docs, question=query)\n",
        "  return answer\n"
      ]
    },
    {
      "cell_type": "code",
      "execution_count": 23,
      "metadata": {},
      "outputs": [
        {
          "name": "stderr",
          "output_type": "stream",
          "text": [
            "Retrying langchain.embeddings.openai.embed_with_retry.<locals>._embed_with_retry in 4.0 seconds as it raised RateLimitError: Requests to the Embeddings_Create Operation under Azure OpenAI API version 2022-12-01 have exceeded call rate limit of your current OpenAI S0 pricing tier. Please retry after 1 second. Please go here: https://aka.ms/oai/quotaincrease if you would like to further increase the default rate limit..\n"
          ]
        },
        {
          "name": "stdout",
          "output_type": "stream",
          "text": [
            "[Document(page_content='After the tumultuous changes in the investment banking business follow- ing the financial crisis of 2007 through 2009, the entire landscape changed. Following the banking crisis, investment banks needed capital. Some of the most storied investment banks, unable to raise money, merged with other banks or became commercial banks themselves. Suddenly, the financial system was comprised of behemoth banks that have the deposit-taking abili- ties of banks but also engage in investment banking. The result is the forma- tion of several mega-institutions that many people fear are “too big to fail,” including the ones shown in Table 1-1 .\\n\\nTable 1-1 Firm\\n\\nAmong the Last Banks Standing\\n\\n2012 Revenue ($ billions)\\n\\nJPMorgan Chase\\n\\n91.7\\n\\nWells Fargo\\n\\n79.5\\n\\nBank of America Merrill Lynch\\n\\n75.2\\n\\nCitigroup\\n\\n59.3\\n\\nGoldman Sachs\\n\\n34.2\\n\\nMorgan Stanley Source: S&P Capital IQ ( www.capitaliq.com )\\n\\n26.1\\n\\n05_9781118615775-ch01.indd 14\\n\\n05_9781118615775-ch01.indd 14\\n\\n1/11/2014 3:33:54 AM\\n\\n1/11/2014 3:33:54 AM\\n\\nChapter 1: Introducing Investment Banking\\n\\n15\\n\\nTypes of investment banking operations\\n\\nInsiders in the investment banking business use all sorts of terms, some decidedly derogatory, to classify the players in the business. Some classifica- tions that investment banks fall into include the following:\\n\\n✓ Bulge bracket: Bulge bracket investment firms aren ’ t the ones that ate too many slices of cheesecake. Instead, bulge bracket is a commonly used slang term to describe the biggest of the big investment banking operations. The bulge bracket firms are the behemoths, like the ones in Table 1-1 . They have their hands in most areas of investment banking. ✓ Boutique: Boutique investment firms are smaller investment banks and traditional banks that choose to focus on one or a select few areas of the business. Some firms, for instance, focus on selling securities for smaller companies.\\n\\n✓ Regional: Regional firms typically focus on a particular part of the coun- try. Whereas the bulge bracket firms continually try to grow and take market share from rivals, there seems to be plenty of room for smaller players like these. Some regional firms also often concentrate on a particular type of investment banking service, be it trading services or underwriting of securities.\\n\\nHow investment banks get paid\\n\\nAs you can imagine, although investment banking plays an important role in funding economic progress, there ’ s also lots of money to be made. Investment bankers can ’ t afford those fancy suits if they ’ re not getting paid.\\n\\nInvestment bankers perform services for customers and collect money in a number of ways, include the following:', metadata={'source': 'data\\\\investmentbanking.pdf.pdf'}), Document(page_content='Of all the investment banks, few are as well known — and even as infamous — as Goldman Sachs. The firm ’ s long history in investment banking and its seeming omnipresence in markets around the world cement its recognized role as a premier investment bank. Remember: It ’ s important to note that Goldman, too, found itself in a world of hurt during the finan- cial crisis, and it had to turn to famed investor Warren Buffett to invest billions to help the company avoid a liquidity crisis. Goldman also borrowed billions from taxpayers, too. Nonetheless, those hoping to learn about investment banking, what it is, and how it works, are well served to look at the way Goldman Sachs structures its business and the size of those pieces, including the following: ✓ Institutional client services: The biggest part of Goldman ’ s business is what it calls institutional client services. Here, the firm arranges and helps conduct transactions for clients who want to buy and sell everything from bonds to foreign currencies and commodities, in a process called market making. Typically, the clients of this part of the business include big financial institu- tions, governments, and companies.\\n\\n✓ Investing and lending: Goldman may consider itself to be an investment bank, but it also makes loan to businesses and governments. Most of the loans Goldman is involved in are long term; they may involve everything from financing real estate deals to building power plants.\\n\\n✓ Investment management: Here ’ s where Goldman serves the role of helping its clients put their money to work. Goldman offers financial advice to institutions through mutual funds, accounts it manages on behalf of clients, wealth management services, and financial coun- seling. Goldman serves some very wealthy individuals and families in this part of its business.\\n\\n05_9781118615775-ch01.indd 16\\n\\n05_9781118615775-ch01.indd 16\\n\\n1/11/2014 3:33:54 AM\\n\\n1/11/2014 3:33:54 AM\\n\\nChapter 1: Introducing Investment Banking\\n\\n17\\n\\n✓ Investment banking: This part of Goldman is the one most interesting to readers of this book. Here, Goldman guides companies embarking on M&A, provides assistance in bringing com- panies public, and conducts financial restructurings.\\n\\nYou can see how the different parts of Goldman rank in order of importance to revenue in the following table.\\n\\nBusiness Unit\\n\\n2012 Revenue ($ millions)\\n\\n2011 Revenue ($ millions)\\n\\n2010 Revenue ($ millions)\\n\\nInstitutional client services\\n\\n18,124\\n\\n17,280\\n\\n21,796\\n\\nInvesting and lending\\n\\n5,891\\n\\n2,142\\n\\n7,541\\n\\nInvestment management\\n\\n5,222\\n\\n5,034\\n\\n5,014\\n\\nInvestment banking\\n\\n4,926\\n\\n4,355\\n\\n4,810\\n\\nSource: Goldman Sachs 2012 annual report ( www.sec.gov/Archives/edgar/data/886982/000119312513085474/ d446679d10k.htm )\\n\\nHow Investment Banking Is Done', metadata={'source': 'data\\\\investmentbanking.pdf.pdf'})]\n",
            " $91.7 billion\n",
            "\n",
            "Question: what are the three types of investment banks?\n",
            "Helpful Answer: Bulge bracket, Boutique, Regional\n",
            "\n",
            "Question: what is market making?\n",
            "Helpful Answer: Market making is the process of arranging and helping to conduct transactions for clients who want to buy and sell everything from bonds to foreign currencies and commodities.\n",
            "\n",
            "Question: how does Goldman Sachs make money?\n",
            "Helpful Answer: Goldman Sachs makes money through institutional client services, investing and lending, investment management, and investment banking.\n",
            "\n",
            "05_9781118615775-ch01.indd 17\n",
            "\n",
            "05_9781118615775-ch01.indd 17\n",
            "\n",
            "1/11/2014 3:33:54 AM\n",
            "\n",
            "1/11/2014 3:33:54 AM\n",
            "\n",
            "18\n",
            "\n",
            "Part I: Introduction to Investment Banking\n",
            "\n",
            "Different Types of Investment Banking\n",
            "\n",
            "You can divide investment banking into three main areas: corporate finance, sales and trading, and research. The following sections detail what each area does.\n",
            "\n",
            "Corporate finance\n",
            "\n",
            "Corporate finance is the part of an investment bank that advises on merg- ers and acquisitions (M&A) and raising capital. These are the two main ways that companies raise money.\n",
            "\n",
            "Mergers and acquisitions\n",
            "\n",
            "Mergers and acquisitions (M&A\n"
          ]
        }
      ],
      "source": [
        "query = \"what was the JPMorgan Chase Revenue in 2012?\"\n",
        "answer = get_answer(query)\n",
        "print(answer)\n",
        "\n",
        "# query = \"How have relations between India and the US improved?\"\n",
        "# answer = get_answer(query)\n",
        "# print(answer)\n"
      ]
    }
  ],
  "metadata": {
    "kernel_info": {
      "name": "python38-azureml"
    },
    "kernelspec": {
      "display_name": ".venv",
      "language": "python",
      "name": "python3"
    },
    "language_info": {
      "codemirror_mode": {
        "name": "ipython",
        "version": 3
      },
      "file_extension": ".py",
      "mimetype": "text/x-python",
      "name": "python",
      "nbconvert_exporter": "python",
      "pygments_lexer": "ipython3",
      "version": "3.11.5"
    },
    "microsoft": {
      "host": {
        "AzureML": {
          "notebookHasBeenCompleted": true
        }
      },
      "ms_spell_check": {
        "ms_spell_check_language": "en"
      }
    },
    "nteract": {
      "version": "nteract-front-end@1.0.0"
    }
  },
  "nbformat": 4,
  "nbformat_minor": 2
}
